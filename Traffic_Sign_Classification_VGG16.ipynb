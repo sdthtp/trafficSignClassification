{
  "nbformat": 4,
  "nbformat_minor": 0,
  "metadata": {
    "colab": {
      "name": "Traffic_Sign_Classification_VGG16.ipynb",
      "provenance": [],
      "collapsed_sections": [],
      "machine_shape": "hm",
      "include_colab_link": true
    },
    "kernelspec": {
      "name": "python3",
      "display_name": "Python 3"
    },
    "accelerator": "GPU"
  },
  "cells": [
    {
      "cell_type": "markdown",
      "metadata": {
        "id": "view-in-github",
        "colab_type": "text"
      },
      "source": [
        "<a href=\"https://colab.research.google.com/github/sdthtp/trafficSignClassification/blob/master/Traffic_Sign_Classification_VGG16.ipynb\" target=\"_parent\"><img src=\"https://colab.research.google.com/assets/colab-badge.svg\" alt=\"Open In Colab\"/></a>"
      ]
    },
    {
      "cell_type": "code",
      "metadata": {
        "id": "_cBY70L1SKIf",
        "colab_type": "code",
        "colab": {}
      },
      "source": [
        "import os\n",
        "import time\n",
        "import zipfile\n",
        "import pandas as pd\n",
        "import tensorflow as tf\n",
        "from tensorflow import keras # Tensorflow high-level api\n",
        "from tensorflow.keras import layers\n",
        "import numpy as np\n",
        "%matplotlib inline\n",
        "import matplotlib.pyplot as plt\n",
        "import matplotlib.image as mpimg\n",
        "from sklearn.metrics import classification_report\n",
        "from keras import optimizers\n",
        "from keras.models import Model, Sequential\n",
        "from keras.layers import Dense,Flatten, GlobalAveragePooling2D, BatchNormalization, Activation, Dropout, Conv2D,MaxPooling2D\n",
        "from keras.optimizers import Adam\n",
        "from keras.callbacks import ModelCheckpoint, EarlyStopping, TensorBoard, CSVLogger, ReduceLROnPlateau\n",
        "#from keras.layers import Activation, Dropout, Flatten, Dense\n",
        "from keras.applications.xception import Xception\n",
        "from keras.preprocessing.image import ImageDataGenerator\n",
        "from keras.models import load_model\n",
        "from tensorflow.keras import backend as K\n",
        "from sklearn.model_selection import train_test_split\n",
        "from datetime import datetime\n",
        "from keras.applications.inception_v3 import InceptionV3\n",
        "from keras.applications.resnet50 import ResNet50\n",
        "from keras.applications.vgg16 import VGG16\n",
        "from keras.layers import Input\n"
      ],
      "execution_count": null,
      "outputs": []
    },
    {
      "cell_type": "code",
      "metadata": {
        "id": "bVUimm4OcMcG",
        "colab_type": "code",
        "colab": {
          "base_uri": "https://localhost:8080/",
          "height": 34
        },
        "outputId": "6c20f421-98e0-4933-cf38-fb04444d51a6"
      },
      "source": [
        "from google.colab import drive\n",
        "drive.mount('/content/drive')"
      ],
      "execution_count": null,
      "outputs": [
        {
          "output_type": "stream",
          "text": [
            "Drive already mounted at /content/drive; to attempt to forcibly remount, call drive.mount(\"/content/drive\", force_remount=True).\n"
          ],
          "name": "stdout"
        }
      ]
    },
    {
      "cell_type": "code",
      "metadata": {
        "id": "HiYe1tw1SqZ9",
        "colab_type": "code",
        "colab": {
          "base_uri": "https://localhost:8080/",
          "height": 340
        },
        "outputId": "05297741-c46a-45f4-ad4b-d97825792f73"
      },
      "source": [
        "!pip install kaggle\n",
        "!pip install keras"
      ],
      "execution_count": null,
      "outputs": [
        {
          "output_type": "stream",
          "text": [
            "Requirement already satisfied: kaggle in /usr/local/lib/python3.6/dist-packages (1.5.6)\n",
            "Requirement already satisfied: requests in /usr/local/lib/python3.6/dist-packages (from kaggle) (2.23.0)\n",
            "Requirement already satisfied: certifi in /usr/local/lib/python3.6/dist-packages (from kaggle) (2020.6.20)\n",
            "Requirement already satisfied: tqdm in /usr/local/lib/python3.6/dist-packages (from kaggle) (4.41.1)\n",
            "Requirement already satisfied: six>=1.10 in /usr/local/lib/python3.6/dist-packages (from kaggle) (1.12.0)\n",
            "Requirement already satisfied: urllib3<1.25,>=1.21.1 in /usr/local/lib/python3.6/dist-packages (from kaggle) (1.24.3)\n",
            "Requirement already satisfied: python-slugify in /usr/local/lib/python3.6/dist-packages (from kaggle) (4.0.1)\n",
            "Requirement already satisfied: python-dateutil in /usr/local/lib/python3.6/dist-packages (from kaggle) (2.8.1)\n",
            "Requirement already satisfied: idna<3,>=2.5 in /usr/local/lib/python3.6/dist-packages (from requests->kaggle) (2.10)\n",
            "Requirement already satisfied: chardet<4,>=3.0.2 in /usr/local/lib/python3.6/dist-packages (from requests->kaggle) (3.0.4)\n",
            "Requirement already satisfied: text-unidecode>=1.3 in /usr/local/lib/python3.6/dist-packages (from python-slugify->kaggle) (1.3)\n",
            "Requirement already satisfied: keras in /usr/local/lib/python3.6/dist-packages (2.3.1)\n",
            "Requirement already satisfied: keras-applications>=1.0.6 in /usr/local/lib/python3.6/dist-packages (from keras) (1.0.8)\n",
            "Requirement already satisfied: keras-preprocessing>=1.0.5 in /usr/local/lib/python3.6/dist-packages (from keras) (1.1.2)\n",
            "Requirement already satisfied: h5py in /usr/local/lib/python3.6/dist-packages (from keras) (2.10.0)\n",
            "Requirement already satisfied: six>=1.9.0 in /usr/local/lib/python3.6/dist-packages (from keras) (1.12.0)\n",
            "Requirement already satisfied: numpy>=1.9.1 in /usr/local/lib/python3.6/dist-packages (from keras) (1.18.5)\n",
            "Requirement already satisfied: pyyaml in /usr/local/lib/python3.6/dist-packages (from keras) (3.13)\n",
            "Requirement already satisfied: scipy>=0.14 in /usr/local/lib/python3.6/dist-packages (from keras) (1.4.1)\n"
          ],
          "name": "stdout"
        }
      ]
    },
    {
      "cell_type": "code",
      "metadata": {
        "id": "WChzIdu9ZU5u",
        "colab_type": "code",
        "colab": {
          "base_uri": "https://localhost:8080/",
          "height": 34
        },
        "outputId": "aea6e53a-e78e-4599-c09f-2573bd2674e9"
      },
      "source": [
        "!cat > kaggle.json <<EOF\n",
        "!echo '{\"username\":\"hatipsedat\",\"key\":\"645cde903abbd80d20dcaaa40b4ebe1d\"}' > kaggle.json\n",
        "!mkdir -p ~/.kaggle\n",
        "!cp kaggle.json ~/.kaggle/\n",
        "\n",
        "# This permissions change avoids a warning on Kaggle tool startup.\n",
        "!chmod 600 ~/.kaggle/kaggle.json"
      ],
      "execution_count": null,
      "outputs": [
        {
          "output_type": "stream",
          "text": [
            "/bin/bash: warning: here-document at line 0 delimited by end-of-file (wanted `EOF')\n"
          ],
          "name": "stdout"
        }
      ]
    },
    {
      "cell_type": "code",
      "metadata": {
        "id": "vDDRPpI-S1LL",
        "colab_type": "code",
        "colab": {
          "base_uri": "https://localhost:8080/",
          "height": 68
        },
        "outputId": "fb8d71b0-283a-4718-8057-85603e077300"
      },
      "source": [
        "!kaggle datasets download -d meowmeowmeowmeowmeow/gtsrb-german-traffic-sign"
      ],
      "execution_count": null,
      "outputs": [
        {
          "output_type": "stream",
          "text": [
            "Downloading gtsrb-german-traffic-sign.zip to /content\n",
            " 98% 601M/612M [00:20<00:00, 35.9MB/s]\n",
            "100% 612M/612M [00:20<00:00, 31.2MB/s]\n"
          ],
          "name": "stdout"
        }
      ]
    },
    {
      "cell_type": "code",
      "metadata": {
        "id": "xVFtd3mGTKF7",
        "colab_type": "code",
        "colab": {}
      },
      "source": [
        "local_zip = '/content/gtsrb-german-traffic-sign.zip'\n",
        "zip_ref = zipfile.ZipFile(local_zip, 'r')\n",
        "zip_ref.extractall('/content/gtsrb')\n",
        "zip_ref.close()"
      ],
      "execution_count": null,
      "outputs": []
    },
    {
      "cell_type": "code",
      "metadata": {
        "id": "oXxtbRlKcU7D",
        "colab_type": "code",
        "colab": {}
      },
      "source": [
        "# Generiere Bündel (batches) von Bilddaten-Tensoren mit echtzeit Datenaugmentierung.\n",
        "# Die Daten werden in Bündel durchgelaufen (loop over in batches).\n",
        "# 20 Prozent der Daten werden f ür die Validierung verwendet.\n",
        "\n",
        "\n",
        "import cv2\n",
        "trainfiles=open('/content/gtsrb/Train.csv').read().strip().split('\\n')[1:] #Pro Zeile aufsplitten\n",
        "#print(trainfile)\n",
        "data=[]\n",
        "labels =[]\n",
        "IMG_PATH=[]\n",
        "for i in range(len(trainfiles)):\n",
        "    label,imagepath = trainfiles[i].split(',')[-2:] #Label und Imagepath aufsplitten\n",
        "    imagepath=os.path.join(\"/content/gtsrb/\",imagepath) #Path der CSV Datei dem Hauptpath anhängen\n",
        "    IMG_PATH.append(imagepath) #PATH array jeweils alle paths hinzufügen\n",
        "    image = cv2.imread(imagepath) #foto lesen\n",
        "    image = cv2.resize(image,(128,128)) #trivial\n",
        "    b,g,r = cv2.split(image)           \n",
        "    image = cv2.merge([r,g,b]) #OpenCV liest Bilder im BGR Channel (warum auch immer), deshalb musste der Channel hier in RGB umgeändert werden\n",
        "    data.append(image) #data array alle bilder hinzufügen\n",
        "    labels.append(label) #die zugehörigen labels\n",
        "\n",
        "    #IMG_PATH[image1.path, image2.path, image2.path, ..., imageN.path]\n",
        "    #data[image1, image2, image3, ..., imageN]\n",
        "    #labels[20, 10, 30, ..., label von imageN]\n"
      ],
      "execution_count": null,
      "outputs": []
    },
    {
      "cell_type": "code",
      "metadata": {
        "id": "LN0bx2abkLek",
        "colab_type": "code",
        "colab": {
          "base_uri": "https://localhost:8080/",
          "height": 233
        },
        "outputId": "ec8ae313-cf81-433c-e1de-fa839225d298"
      },
      "source": [
        "print(IMG_PATH[2000])\n",
        "plt.subplot(1,2,1)\n",
        "plt.title(\"Resized auf 32x32\")\n",
        "plt.imshow(data[2000])\n",
        "plt.subplot(1,2,2)\n",
        "plt.title(\"Normales Bild\")\n",
        "plt.imshow(plt.imread(IMG_PATH[2000]))\n",
        "plt.show()"
      ],
      "execution_count": null,
      "outputs": [
        {
          "output_type": "stream",
          "text": [
            "/content/gtsrb/Train/1/00001_00047_00020.png\n"
          ],
          "name": "stdout"
        },
        {
          "output_type": "display_data",
          "data": {
            "image/png": "[encoded data removed]",
            "text/plain": [
              "<Figure size 432x288 with 2 Axes>"
            ]
          },
          "metadata": {
            "tags": [],
            "needs_background": "light"
          }
        }
      ]
    },
    {
      "cell_type": "code",
      "metadata": {
        "id": "Sz2ryTc9caFP",
        "colab_type": "code",
        "colab": {
          "base_uri": "https://localhost:8080/",
          "height": 51
        },
        "outputId": "7a5b61fc-8d8c-43c4-8304-438e5eb6cd9e"
      },
      "source": [
        "train_x, train_y = data,labels\n",
        "train_x, valid_x, train_y, valid_y = train_test_split(train_x, train_y,\n",
        "                                                    stratify=train_y, \n",
        "                                                    test_size=0.2,\n",
        "                                                    random_state = 7)\n",
        "train_x = np.array(train_x)\n",
        "train_y = np.array(train_y)\n",
        "valid_x = np.array(valid_x)\n",
        "valid_y = np.array(valid_y)\n",
        "print(train_y.shape[0])\n",
        "print(valid_y.shape[0])"
      ],
      "execution_count": null,
      "outputs": [
        {
          "output_type": "stream",
          "text": [
            "31367\n",
            "7842\n"
          ],
          "name": "stdout"
        }
      ]
    },
    {
      "cell_type": "code",
      "metadata": {
        "id": "k2i5SlXrzjcW",
        "colab_type": "code",
        "colab": {
          "base_uri": "https://localhost:8080/",
          "height": 51
        },
        "outputId": "0b664a74-97c5-40b2-be32-5f037dd11320"
      },
      "source": [
        "base_model = VGG16(include_top=False, weights=\"imagenet\", input_tensor=Input(shape=(128, 128, 3)))\n",
        "base_model = Model(inputs=base_model.input, outputs=base_model.get_layer('block5_conv3').output)\n",
        "for layer in base_model.layers:\n",
        "  layer.trainable = False\n",
        "x = base_model.output\n",
        "x = Flatten()(x)\n",
        "x = Dense(256, activation='relu')(x) #new FC layer, random init\n",
        "predictions = Dense(43, activation='softmax')(x) #new softmax layer\n",
        "model = Model(inputs=base_model.input, outputs=predictions)"
      ],
      "execution_count": null,
      "outputs": [
        {
          "output_type": "stream",
          "text": [
            "Downloading data from https://github.com/fchollet/deep-learning-models/releases/download/v0.1/vgg16_weights_tf_dim_ordering_tf_kernels_notop.h5\n",
            "58892288/58889256 [==============================] - 5s 0us/step\n"
          ],
          "name": "stdout"
        }
      ]
    },
    {
      "cell_type": "code",
      "metadata": {
        "id": "xGvCtc0gxRem",
        "colab_type": "code",
        "colab": {
          "base_uri": "https://localhost:8080/",
          "height": 867
        },
        "outputId": "2968c524-4a52-4f15-9917-f83e94abef73"
      },
      "source": [
        "model.summary()"
      ],
      "execution_count": null,
      "outputs": [
        {
          "output_type": "stream",
          "text": [
            "Model: \"model_2\"\n",
            "_________________________________________________________________\n",
            "Layer (type)                 Output Shape              Param #   \n",
            "=================================================================\n",
            "input_1 (InputLayer)         (None, 128, 128, 3)       0         \n",
            "_________________________________________________________________\n",
            "block1_conv1 (Conv2D)        (None, 128, 128, 64)      1792      \n",
            "_________________________________________________________________\n",
            "block1_conv2 (Conv2D)        (None, 128, 128, 64)      36928     \n",
            "_________________________________________________________________\n",
            "block1_pool (MaxPooling2D)   (None, 64, 64, 64)        0         \n",
            "_________________________________________________________________\n",
            "block2_conv1 (Conv2D)        (None, 64, 64, 128)       73856     \n",
            "_________________________________________________________________\n",
            "block2_conv2 (Conv2D)        (None, 64, 64, 128)       147584    \n",
            "_________________________________________________________________\n",
            "block2_pool (MaxPooling2D)   (None, 32, 32, 128)       0         \n",
            "_________________________________________________________________\n",
            "block3_conv1 (Conv2D)        (None, 32, 32, 256)       295168    \n",
            "_________________________________________________________________\n",
            "block3_conv2 (Conv2D)        (None, 32, 32, 256)       590080    \n",
            "_________________________________________________________________\n",
            "block3_conv3 (Conv2D)        (None, 32, 32, 256)       590080    \n",
            "_________________________________________________________________\n",
            "block3_pool (MaxPooling2D)   (None, 16, 16, 256)       0         \n",
            "_________________________________________________________________\n",
            "block4_conv1 (Conv2D)        (None, 16, 16, 512)       1180160   \n",
            "_________________________________________________________________\n",
            "block4_conv2 (Conv2D)        (None, 16, 16, 512)       2359808   \n",
            "_________________________________________________________________\n",
            "block4_conv3 (Conv2D)        (None, 16, 16, 512)       2359808   \n",
            "_________________________________________________________________\n",
            "block4_pool (MaxPooling2D)   (None, 8, 8, 512)         0         \n",
            "_________________________________________________________________\n",
            "block5_conv1 (Conv2D)        (None, 8, 8, 512)         2359808   \n",
            "_________________________________________________________________\n",
            "block5_conv2 (Conv2D)        (None, 8, 8, 512)         2359808   \n",
            "_________________________________________________________________\n",
            "block5_conv3 (Conv2D)        (None, 8, 8, 512)         2359808   \n",
            "_________________________________________________________________\n",
            "flatten_1 (Flatten)          (None, 32768)             0         \n",
            "_________________________________________________________________\n",
            "dense_1 (Dense)              (None, 256)               8388864   \n",
            "_________________________________________________________________\n",
            "dense_2 (Dense)              (None, 43)                11051     \n",
            "=================================================================\n",
            "Total params: 23,114,603\n",
            "Trainable params: 8,399,915\n",
            "Non-trainable params: 14,714,688\n",
            "_________________________________________________________________\n"
          ],
          "name": "stdout"
        }
      ]
    },
    {
      "cell_type": "code",
      "metadata": {
        "id": "O6tAu25NtnDA",
        "colab_type": "code",
        "colab": {}
      },
      "source": [
        "trainAugmentation = ImageDataGenerator(\n",
        "        rescale=1./255,\n",
        "        rotation_range=10,\n",
        "        zoom_range=0.15,\n",
        "        width_shift_range=0.1,\n",
        "        height_shift_range=0.1,\n",
        "        horizontal_flip=False,\n",
        "        vertical_flip=False,\n",
        "        fill_mode=\"nearest\"\n",
        ")"
      ],
      "execution_count": null,
      "outputs": []
    },
    {
      "cell_type": "code",
      "metadata": {
        "id": "4-HTq99D0ElZ",
        "colab_type": "code",
        "colab": {}
      },
      "source": [
        "timestamp = datetime.now().strftime(\"%d-%b-%Y (%H:%M)\")\n",
        "filepath = \"/content/drive/My Drive/VGG16_model_v\" + timestamp + \".h5\"\n",
        "#model = load_model(filepath)"
      ],
      "execution_count": null,
      "outputs": []
    },
    {
      "cell_type": "code",
      "metadata": {
        "id": "QENOtfzLz3UT",
        "colab_type": "code",
        "colab": {
          "base_uri": "https://localhost:8080/",
          "height": 34
        },
        "outputId": "a670d9ca-24be-4d6d-c66b-ffe33cbf6254"
      },
      "source": [
        "#Optimizer/Compiler Block:\n",
        "\n",
        "const_learning_rate = 0.0005\n",
        "const_epochNum = 50\n",
        "print(\"[INFO] Kompilierung...\")\n",
        "#decay=const_learning_rate / (const_epochNum * 0.5)\n",
        "model.compile(loss=\"sparse_categorical_crossentropy\", optimizer=Adam(lr=const_learning_rate, decay=(1./0.75 -1)/32),\n",
        "metrics=[\"accuracy\"])"
      ],
      "execution_count": null,
      "outputs": [
        {
          "output_type": "stream",
          "text": [
            "[INFO] Kompilierung...\n"
          ],
          "name": "stdout"
        }
      ]
    },
    {
      "cell_type": "code",
      "metadata": {
        "id": "yuygq0JrrdVV",
        "colab_type": "code",
        "colab": {}
      },
      "source": [
        "#Callback Funktion um zu sehen, um wie viel die LR mit LR-Decay pro Epoche abnimmt, funktioniert allerdings nicht wie erwartet, sondern gibt immer die Konstante LR an...\n",
        "class printlearningrate(tf.keras.callbacks.Callback):\n",
        "    def on_epoch_end(self, epoch, logs={}):\n",
        "        optimizer = self.model.optimizer\n",
        "        lr = K.eval(optimizer.lr)\n",
        "        Epoch_count = epoch + 1\n",
        "        print('\\n', \"Epoch:\", Epoch_count, ', LR: {:.10f}'.format(lr))\n",
        "printlr = printlearningrate()"
      ],
      "execution_count": null,
      "outputs": []
    },
    {
      "cell_type": "code",
      "metadata": {
        "id": "we4SThNc1oz1",
        "colab_type": "code",
        "colab": {
          "base_uri": "https://localhost:8080/",
          "height": 1000
        },
        "outputId": "50e048cb-5cbd-435a-97a5-2ce1c19bf20f"
      },
      "source": [
        "#Trainingsblock\n",
        "const_batch_size = 256\n",
        "print(\"[INFO] Networktraining...\")\n",
        "history = model.fit_generator(\n",
        "\ttrainAugmentation.flow(train_x, train_y, batch_size=const_batch_size),\n",
        "\tvalidation_data=(trainAugmentation.flow(valid_x, valid_y, batch_size=const_batch_size)),\n",
        "\tsteps_per_epoch=train_x.shape[0] // const_batch_size,\n",
        "\tepochs=const_epochNum,\n",
        "\tcallbacks = [printlr],\n",
        "\tverbose=1)\n",
        "model.save(filepath) #--- Model wird in dieser Version nicht gesaved, damit es bei Ihnen auch funktioniert"
      ],
      "execution_count": null,
      "outputs": [
        {
          "output_type": "stream",
          "text": [
            "[INFO] Networktraining...\n",
            "Epoch 1/50\n",
            "122/122 [==============================] - 115s 943ms/step - loss: 1.5328 - accuracy: 0.5809 - val_loss: 0.9709 - val_accuracy: 0.7399\n",
            "\n",
            " Epoch: 1 , LR: 0.0005000000\n",
            "Epoch 2/50\n",
            "122/122 [==============================] - 110s 900ms/step - loss: 0.8683 - accuracy: 0.7739 - val_loss: 0.7068 - val_accuracy: 0.7935\n",
            "\n",
            " Epoch: 2 , LR: 0.0005000000\n",
            "Epoch 3/50\n",
            "122/122 [==============================] - 109s 895ms/step - loss: 0.7246 - accuracy: 0.8194 - val_loss: 0.7354 - val_accuracy: 0.8082\n",
            "\n",
            " Epoch: 3 , LR: 0.0005000000\n",
            "Epoch 4/50\n",
            "122/122 [==============================] - 109s 891ms/step - loss: 0.6542 - accuracy: 0.8369 - val_loss: 0.5178 - val_accuracy: 0.8287\n",
            "\n",
            " Epoch: 4 , LR: 0.0005000000\n",
            "Epoch 5/50\n",
            "122/122 [==============================] - 109s 889ms/step - loss: 0.6053 - accuracy: 0.8519 - val_loss: 0.6336 - val_accuracy: 0.8430\n",
            "\n",
            " Epoch: 5 , LR: 0.0005000000\n",
            "Epoch 6/50\n",
            "122/122 [==============================] - 111s 910ms/step - loss: 0.5703 - accuracy: 0.8614 - val_loss: 0.6177 - val_accuracy: 0.8518\n",
            "\n",
            " Epoch: 6 , LR: 0.0005000000\n",
            "Epoch 7/50\n",
            "122/122 [==============================] - 108s 883ms/step - loss: 0.5405 - accuracy: 0.8722 - val_loss: 0.5402 - val_accuracy: 0.8502\n",
            "\n",
            " Epoch: 7 , LR: 0.0005000000\n",
            "Epoch 8/50\n",
            "122/122 [==============================] - 106s 873ms/step - loss: 0.5229 - accuracy: 0.8758 - val_loss: 0.5659 - val_accuracy: 0.8666\n",
            "\n",
            " Epoch: 8 , LR: 0.0005000000\n",
            "Epoch 9/50\n",
            "122/122 [==============================] - 109s 895ms/step - loss: 0.5062 - accuracy: 0.8768 - val_loss: 0.5527 - val_accuracy: 0.8650\n",
            "\n",
            " Epoch: 9 , LR: 0.0005000000\n",
            "Epoch 10/50\n",
            "122/122 [==============================] - 106s 869ms/step - loss: 0.4875 - accuracy: 0.8834 - val_loss: 0.5358 - val_accuracy: 0.8702\n",
            "\n",
            " Epoch: 10 , LR: 0.0005000000\n",
            "Epoch 11/50\n",
            "122/122 [==============================] - 106s 869ms/step - loss: 0.4755 - accuracy: 0.8874 - val_loss: 0.6438 - val_accuracy: 0.8750\n",
            "\n",
            " Epoch: 11 , LR: 0.0005000000\n",
            "Epoch 12/50\n",
            "122/122 [==============================] - 106s 870ms/step - loss: 0.4660 - accuracy: 0.8904 - val_loss: 0.3829 - val_accuracy: 0.8778\n",
            "\n",
            " Epoch: 12 , LR: 0.0005000000\n",
            "Epoch 13/50\n",
            "122/122 [==============================] - 107s 875ms/step - loss: 0.4521 - accuracy: 0.8943 - val_loss: 0.4154 - val_accuracy: 0.8748\n",
            "\n",
            " Epoch: 13 , LR: 0.0005000000\n",
            "Epoch 14/50\n",
            "122/122 [==============================] - 102s 840ms/step - loss: 0.4463 - accuracy: 0.8964 - val_loss: 0.4461 - val_accuracy: 0.8796\n",
            "\n",
            " Epoch: 14 , LR: 0.0005000000\n",
            "Epoch 15/50\n",
            "122/122 [==============================] - 104s 850ms/step - loss: 0.4352 - accuracy: 0.8970 - val_loss: 0.5447 - val_accuracy: 0.8812\n",
            "\n",
            " Epoch: 15 , LR: 0.0005000000\n",
            "Epoch 16/50\n",
            "122/122 [==============================] - 103s 845ms/step - loss: 0.4323 - accuracy: 0.8983 - val_loss: 0.5019 - val_accuracy: 0.8810\n",
            "\n",
            " Epoch: 16 , LR: 0.0005000000\n",
            "Epoch 17/50\n",
            "122/122 [==============================] - 106s 872ms/step - loss: 0.4259 - accuracy: 0.9008 - val_loss: 0.4373 - val_accuracy: 0.8822\n",
            "\n",
            " Epoch: 17 , LR: 0.0005000000\n",
            "Epoch 18/50\n",
            "122/122 [==============================] - 107s 880ms/step - loss: 0.4182 - accuracy: 0.9018 - val_loss: 0.5422 - val_accuracy: 0.8841\n",
            "\n",
            " Epoch: 18 , LR: 0.0005000000\n",
            "Epoch 19/50\n",
            "122/122 [==============================] - 105s 864ms/step - loss: 0.4146 - accuracy: 0.9036 - val_loss: 0.4283 - val_accuracy: 0.8869\n",
            "\n",
            " Epoch: 19 , LR: 0.0005000000\n",
            "Epoch 20/50\n",
            "122/122 [==============================] - 103s 848ms/step - loss: 0.4071 - accuracy: 0.9057 - val_loss: 0.4616 - val_accuracy: 0.8866\n",
            "\n",
            " Epoch: 20 , LR: 0.0005000000\n",
            "Epoch 21/50\n",
            "122/122 [==============================] - 104s 852ms/step - loss: 0.3992 - accuracy: 0.9070 - val_loss: 0.4505 - val_accuracy: 0.8915\n",
            "\n",
            " Epoch: 21 , LR: 0.0005000000\n",
            "Epoch 22/50\n",
            "122/122 [==============================] - 103s 844ms/step - loss: 0.3951 - accuracy: 0.9079 - val_loss: 0.4155 - val_accuracy: 0.8866\n",
            "\n",
            " Epoch: 22 , LR: 0.0005000000\n",
            "Epoch 23/50\n",
            "122/122 [==============================] - 103s 846ms/step - loss: 0.3894 - accuracy: 0.9103 - val_loss: 0.4454 - val_accuracy: 0.8873\n",
            "\n",
            " Epoch: 23 , LR: 0.0005000000\n",
            "Epoch 24/50\n",
            "122/122 [==============================] - 103s 848ms/step - loss: 0.3853 - accuracy: 0.9104 - val_loss: 0.3892 - val_accuracy: 0.8875\n",
            "\n",
            " Epoch: 24 , LR: 0.0005000000\n",
            "Epoch 25/50\n",
            "122/122 [==============================] - 103s 848ms/step - loss: 0.3817 - accuracy: 0.9121 - val_loss: 0.4068 - val_accuracy: 0.8939\n",
            "\n",
            " Epoch: 25 , LR: 0.0005000000\n",
            "Epoch 26/50\n",
            "122/122 [==============================] - 102s 840ms/step - loss: 0.3816 - accuracy: 0.9108 - val_loss: 0.4535 - val_accuracy: 0.8961\n",
            "\n",
            " Epoch: 26 , LR: 0.0005000000\n",
            "Epoch 27/50\n",
            "122/122 [==============================] - 103s 844ms/step - loss: 0.3764 - accuracy: 0.9131 - val_loss: 0.3512 - val_accuracy: 0.8940\n",
            "\n",
            " Epoch: 27 , LR: 0.0005000000\n",
            "Epoch 28/50\n",
            "122/122 [==============================] - 102s 836ms/step - loss: 0.3739 - accuracy: 0.9135 - val_loss: 0.4808 - val_accuracy: 0.8963\n",
            "\n",
            " Epoch: 28 , LR: 0.0005000000\n",
            "Epoch 29/50\n",
            "122/122 [==============================] - 105s 861ms/step - loss: 0.3718 - accuracy: 0.9130 - val_loss: 0.4465 - val_accuracy: 0.8953\n",
            "\n",
            " Epoch: 29 , LR: 0.0005000000\n",
            "Epoch 30/50\n",
            "122/122 [==============================] - 104s 850ms/step - loss: 0.3635 - accuracy: 0.9178 - val_loss: 0.4701 - val_accuracy: 0.8986\n",
            "\n",
            " Epoch: 30 , LR: 0.0005000000\n",
            "Epoch 31/50\n",
            "122/122 [==============================] - 104s 851ms/step - loss: 0.3649 - accuracy: 0.9176 - val_loss: 0.5126 - val_accuracy: 0.8942\n",
            "\n",
            " Epoch: 31 , LR: 0.0005000000\n",
            "Epoch 32/50\n",
            "122/122 [==============================] - 103s 848ms/step - loss: 0.3662 - accuracy: 0.9153 - val_loss: 0.6187 - val_accuracy: 0.8993\n",
            "\n",
            " Epoch: 32 , LR: 0.0005000000\n",
            "Epoch 33/50\n",
            "122/122 [==============================] - 103s 846ms/step - loss: 0.3583 - accuracy: 0.9165 - val_loss: 0.4372 - val_accuracy: 0.9010\n",
            "\n",
            " Epoch: 33 , LR: 0.0005000000\n",
            "Epoch 34/50\n",
            "122/122 [==============================] - 103s 842ms/step - loss: 0.3557 - accuracy: 0.9191 - val_loss: 0.4877 - val_accuracy: 0.8988\n",
            "\n",
            " Epoch: 34 , LR: 0.0005000000\n",
            "Epoch 35/50\n",
            "122/122 [==============================] - 102s 837ms/step - loss: 0.3521 - accuracy: 0.9201 - val_loss: 0.4580 - val_accuracy: 0.8990\n",
            "\n",
            " Epoch: 35 , LR: 0.0005000000\n",
            "Epoch 36/50\n",
            "122/122 [==============================] - 102s 836ms/step - loss: 0.3558 - accuracy: 0.9192 - val_loss: 0.4226 - val_accuracy: 0.9002\n",
            "\n",
            " Epoch: 36 , LR: 0.0005000000\n",
            "Epoch 37/50\n",
            "122/122 [==============================] - 102s 834ms/step - loss: 0.3517 - accuracy: 0.9194 - val_loss: 0.3313 - val_accuracy: 0.9030\n",
            "\n",
            " Epoch: 37 , LR: 0.0005000000\n",
            "Epoch 38/50\n",
            "122/122 [==============================] - 101s 828ms/step - loss: 0.3437 - accuracy: 0.9222 - val_loss: 0.2572 - val_accuracy: 0.9049\n",
            "\n",
            " Epoch: 38 , LR: 0.0005000000\n",
            "Epoch 39/50\n",
            "122/122 [==============================] - 102s 834ms/step - loss: 0.3498 - accuracy: 0.9227 - val_loss: 0.3542 - val_accuracy: 0.9009\n",
            "\n",
            " Epoch: 39 , LR: 0.0005000000\n",
            "Epoch 40/50\n",
            "122/122 [==============================] - 102s 834ms/step - loss: 0.3411 - accuracy: 0.9215 - val_loss: 0.4787 - val_accuracy: 0.8993\n",
            "\n",
            " Epoch: 40 , LR: 0.0005000000\n",
            "Epoch 41/50\n",
            "122/122 [==============================] - 102s 838ms/step - loss: 0.3446 - accuracy: 0.9210 - val_loss: 0.2705 - val_accuracy: 0.9045\n",
            "\n",
            " Epoch: 41 , LR: 0.0005000000\n",
            "Epoch 42/50\n",
            "122/122 [==============================] - 102s 835ms/step - loss: 0.3387 - accuracy: 0.9230 - val_loss: 0.3725 - val_accuracy: 0.9013\n",
            "\n",
            " Epoch: 42 , LR: 0.0005000000\n",
            "Epoch 43/50\n",
            "122/122 [==============================] - 103s 842ms/step - loss: 0.3364 - accuracy: 0.9235 - val_loss: 0.3784 - val_accuracy: 0.9073\n",
            "\n",
            " Epoch: 43 , LR: 0.0005000000\n",
            "Epoch 44/50\n",
            "122/122 [==============================] - 101s 831ms/step - loss: 0.3361 - accuracy: 0.9234 - val_loss: 0.4084 - val_accuracy: 0.9035\n",
            "\n",
            " Epoch: 44 , LR: 0.0005000000\n",
            "Epoch 45/50\n",
            "122/122 [==============================] - 101s 831ms/step - loss: 0.3350 - accuracy: 0.9247 - val_loss: 0.3089 - val_accuracy: 0.9049\n",
            "\n",
            " Epoch: 45 , LR: 0.0005000000\n",
            "Epoch 46/50\n",
            "122/122 [==============================] - 102s 833ms/step - loss: 0.3309 - accuracy: 0.9258 - val_loss: 0.4275 - val_accuracy: 0.9028\n",
            "\n",
            " Epoch: 46 , LR: 0.0005000000\n",
            "Epoch 47/50\n",
            "122/122 [==============================] - 102s 839ms/step - loss: 0.3321 - accuracy: 0.9243 - val_loss: 0.3713 - val_accuracy: 0.9024\n",
            "\n",
            " Epoch: 47 , LR: 0.0005000000\n",
            "Epoch 48/50\n",
            "122/122 [==============================] - 102s 833ms/step - loss: 0.3327 - accuracy: 0.9234 - val_loss: 0.3760 - val_accuracy: 0.9065\n",
            "\n",
            " Epoch: 48 , LR: 0.0005000000\n",
            "Epoch 49/50\n",
            "122/122 [==============================] - 102s 838ms/step - loss: 0.3264 - accuracy: 0.9268 - val_loss: 0.2994 - val_accuracy: 0.9070\n",
            "\n",
            " Epoch: 49 , LR: 0.0005000000\n",
            "Epoch 50/50\n",
            "122/122 [==============================] - 102s 835ms/step - loss: 0.3272 - accuracy: 0.9262 - val_loss: 0.3692 - val_accuracy: 0.9061\n",
            "\n",
            " Epoch: 50 , LR: 0.0005000000\n"
          ],
          "name": "stdout"
        }
      ]
    },
    {
      "cell_type": "code",
      "metadata": {
        "id": "ZAFvaYircG9V",
        "colab_type": "code",
        "colab": {}
      },
      "source": [
        ""
      ],
      "execution_count": null,
      "outputs": []
    },
    {
      "cell_type": "code",
      "metadata": {
        "id": "rkJDnxZJq4hK",
        "colab_type": "code",
        "colab": {}
      },
      "source": [
        "plt.plot(history.history['accuracy'])\n",
        "plt.plot(history.history['val_accuracy'])\n",
        "plt.title('Model Accuracy')\n",
        "plt.ylabel('Accuracy')\n",
        "plt.xlabel('Epoch')\n",
        "plt.legend(['Train', 'Validation'], loc='upper left')\n",
        "plt.show()\n",
        "\n",
        "plt.plot(history.history['loss'])\n",
        "plt.plot(history.history['val_loss'])\n",
        "plt.title('Model Loss')\n",
        "plt.ylabel('Loss')\n",
        "plt.xlabel('Epoch')\n",
        "plt.legend(['Train', 'Validation'], loc='upper left')\n",
        "plt.show()"
      ],
      "execution_count": null,
      "outputs": []
    },
    {
      "cell_type": "code",
      "metadata": {
        "id": "XT6BDi7-LSwu",
        "colab_type": "code",
        "colab": {}
      },
      "source": [
        "testfiles=open('/content/gtsrb/Test.csv').read().strip().split('\\n')[1:] #Pro Zeile aufsplitten\n",
        "data=[]\n",
        "labels =[]\n",
        "IMG_PATH=[]\n",
        "for i in range(len(testfiles)):\n",
        "    label,imagepath = testfiles[i].split(',')[-2:] #Label und Imagepath aufsplitten\n",
        "    imagepath=os.path.join(\"/content/gtsrb/\",imagepath) #Path der CSV Datei dem Hauptpath anhängen\n",
        "    IMG_PATH.append(imagepath) #PATH array jeweils alle paths hinzufügen\n",
        "    image = cv2.imread(imagepath) #foto lesen\n",
        "    image = cv2.resize(image,(32,32)) #trivial\n",
        "    b,g,r = cv2.split(image)           \n",
        "    image = cv2.merge([r,g,b]) #OpenCV liest Bilder im BGR Channel (warum auch immer), deshalb musste der Channel hier in RGB umgeändert werden\n",
        "    data.append(image) #data array alle bilder hinzufügen\n",
        "    labels.append(label) #die zugehörigen labels\n",
        "\n",
        "test_x, test_y = data,labels\n",
        "test_x = np.array(test_x)\n",
        "test_y = np.array(test_y)"
      ],
      "execution_count": null,
      "outputs": []
    },
    {
      "cell_type": "code",
      "metadata": {
        "id": "8d7y32RXLX3j",
        "colab_type": "code",
        "colab": {}
      },
      "source": [
        "#Test_Data wird normalisiert für korrekte Evaluierung\n",
        "test_augmented = np.zeros((test_x.shape[0],32,32,3))\n",
        "for i in range(test_x.shape[0]):\n",
        "  test_augmented[i] = test_x[i]/255.0\n",
        "test_x = test_augmented"
      ],
      "execution_count": null,
      "outputs": []
    },
    {
      "cell_type": "code",
      "metadata": {
        "id": "j5Q4enxDNbFy",
        "colab_type": "code",
        "colab": {}
      },
      "source": [
        ""
      ],
      "execution_count": null,
      "outputs": []
    },
    {
      "cell_type": "code",
      "metadata": {
        "id": "gHN82d0ZRZBD",
        "colab_type": "code",
        "colab": {}
      },
      "source": [
        "#Um mit eigenen Bildern zu testen\n",
        "\n",
        "\"\"\"\n",
        "image = cv2.imread('/content/drive/My Drive/EigeneTests/sample1.PNG')\n",
        "image = cv2.resize(image,(32,32)) #trivial\n",
        "b,g,r = cv2.split(image)           \n",
        "image = cv2.merge([r,g,b]) #OpenCV liest Bilder im BGR Channel (warum auch immer), deshalb musste der Channel hier in RGB umgeändert werden\n",
        "image = np.array(image)\n",
        "plt.imshow(image)\n",
        "image = np.expand_dims(image, axis=0)\n",
        "plt.show()\n",
        "pred = model.predict(image/255)\n",
        "print(\"Predicted Label: \" + str(np.argmax(pred, axis=1)) + \". Confidence: \" + str(pred[0][np.argmax(pred,axis=1)])) #argmax, da wir die Zeile mit der höchsten Wahrscheinlichkeit nehmen (softmax)\n",
        "if (np.argmax(pred, axis=1) == 1):\n",
        "  print(\"It is a 30km/h speed limit sign!\")\n",
        "else:\n",
        "  print(\"It is another sign\")\n",
        "\n",
        "  \"\"\""
      ],
      "execution_count": null,
      "outputs": []
    },
    {
      "cell_type": "code",
      "metadata": {
        "id": "CsV-TcJ727zT",
        "colab_type": "code",
        "colab": {}
      },
      "source": [
        "#Evaluierung\n",
        "evaluation = model.evaluate(\n",
        "    x=test_x, y=test_y, batch_size=const_batch_size, verbose=1, sample_weight=None, steps=None,\n",
        "  callbacks=None, max_queue_size=10, workers=1, use_multiprocessing=False\n",
        ")\n",
        "sampleExcelRow = 55\n",
        "#pred = model.predict(image/255)\n",
        "pred = model.predict(test_x[sampleExcelRow - 2:sampleExcelRow - 1]) #9:10 = 11 in excel\n",
        "print(model.metrics_names)\n",
        "print(evaluation)\n",
        "arg = np.argmax(pred, axis = 1)\n",
        "print(arg) #printet das label der 55 excel reihe in Test.csv"
      ],
      "execution_count": null,
      "outputs": []
    },
    {
      "cell_type": "markdown",
      "metadata": {
        "id": "XqOea0Jj1oqi",
        "colab_type": "text"
      },
      "source": [
        ""
      ]
    }
  ]
}