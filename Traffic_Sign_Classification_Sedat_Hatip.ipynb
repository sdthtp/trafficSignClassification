{
  "nbformat": 4,
  "nbformat_minor": 0,
  "metadata": {
    "colab": {
      "name": "Traffic Sign Classification_Sedat_Hatip.ipynb",
      "provenance": [],
      "collapsed_sections": [],
      "toc_visible": true
    },
    "kernelspec": {
      "name": "python3",
      "display_name": "Python 3"
    },
    "accelerator": "GPU"
  },
  "cells": [
    {
      "cell_type": "code",
      "metadata": {
        "id": "_cBY70L1SKIf",
        "colab_type": "code",
        "colab": {
          "base_uri": "https://localhost:8080/",
          "height": 34
        },
        "outputId": "d4cc758b-8ae3-4b11-c45d-403fb49f5a3d"
      },
      "source": [
        "import os\n",
        "import time\n",
        "import zipfile\n",
        "import pandas as pd\n",
        "import tensorflow as tf\n",
        "from tensorflow import keras # Tensorflow high-level api\n",
        "from tensorflow.keras import layers\n",
        "import numpy as np\n",
        "%matplotlib inline\n",
        "import matplotlib.pyplot as plt\n",
        "import matplotlib.image as mpimg\n",
        "from sklearn.metrics import classification_report\n",
        "from keras import optimizers\n",
        "from keras.models import Model, Sequential\n",
        "from keras.layers import Dense,Flatten, GlobalAveragePooling2D, BatchNormalization, Activation, Dropout, Conv2D,MaxPooling2D\n",
        "from keras.optimizers import Adam\n",
        "from keras.callbacks import ModelCheckpoint, EarlyStopping, TensorBoard, CSVLogger, ReduceLROnPlateau\n",
        "#from keras.layers import Activation, Dropout, Flatten, Dense\n",
        "from keras.applications.xception import Xception\n",
        "from keras.preprocessing.image import ImageDataGenerator\n",
        "from keras.models import load_model\n",
        "from tensorflow.keras import backend as K\n",
        "from sklearn.model_selection import train_test_split\n",
        "from datetime import datetime"
      ],
      "execution_count": 1,
      "outputs": [
        {
          "output_type": "stream",
          "text": [
            "Using TensorFlow backend.\n"
          ],
          "name": "stderr"
        }
      ]
    },
    {
      "cell_type": "code",
      "metadata": {
        "id": "HiYe1tw1SqZ9",
        "colab_type": "code",
        "colab": {
          "base_uri": "https://localhost:8080/",
          "height": 202
        },
        "outputId": "4c013b26-63d1-4297-90d4-ae5abfa91713"
      },
      "source": [
        "!pip install kaggle"
      ],
      "execution_count": 2,
      "outputs": [
        {
          "output_type": "stream",
          "text": [
            "Requirement already satisfied: kaggle in /usr/local/lib/python3.6/dist-packages (1.5.6)\n",
            "Requirement already satisfied: urllib3<1.25,>=1.21.1 in /usr/local/lib/python3.6/dist-packages (from kaggle) (1.24.3)\n",
            "Requirement already satisfied: requests in /usr/local/lib/python3.6/dist-packages (from kaggle) (2.23.0)\n",
            "Requirement already satisfied: six>=1.10 in /usr/local/lib/python3.6/dist-packages (from kaggle) (1.12.0)\n",
            "Requirement already satisfied: certifi in /usr/local/lib/python3.6/dist-packages (from kaggle) (2020.6.20)\n",
            "Requirement already satisfied: python-slugify in /usr/local/lib/python3.6/dist-packages (from kaggle) (4.0.0)\n",
            "Requirement already satisfied: tqdm in /usr/local/lib/python3.6/dist-packages (from kaggle) (4.41.1)\n",
            "Requirement already satisfied: python-dateutil in /usr/local/lib/python3.6/dist-packages (from kaggle) (2.8.1)\n",
            "Requirement already satisfied: idna<3,>=2.5 in /usr/local/lib/python3.6/dist-packages (from requests->kaggle) (2.9)\n",
            "Requirement already satisfied: chardet<4,>=3.0.2 in /usr/local/lib/python3.6/dist-packages (from requests->kaggle) (3.0.4)\n",
            "Requirement already satisfied: text-unidecode>=1.3 in /usr/local/lib/python3.6/dist-packages (from python-slugify->kaggle) (1.3)\n"
          ],
          "name": "stdout"
        }
      ]
    },
    {
      "cell_type": "code",
      "metadata": {
        "id": "WChzIdu9ZU5u",
        "colab_type": "code",
        "colab": {
          "base_uri": "https://localhost:8080/",
          "height": 34
        },
        "outputId": "a993478d-2bda-4b93-f359-7142c02b222a"
      },
      "source": [
        "!cat > kaggle.json <<EOF\n",
        "!echo '{\"username\":\"hatipsedat\",\"key\":\"645cde903abbd80d20dcaaa40b4ebe1d\"}' > kaggle.json\n",
        "!mkdir -p ~/.kaggle\n",
        "!cp kaggle.json ~/.kaggle/\n",
        "\n",
        "# This permissions change avoids a warning on Kaggle tool startup.\n",
        "!chmod 600 ~/.kaggle/kaggle.json"
      ],
      "execution_count": 3,
      "outputs": [
        {
          "output_type": "stream",
          "text": [
            "/bin/bash: warning: here-document at line 0 delimited by end-of-file (wanted `EOF')\n"
          ],
          "name": "stdout"
        }
      ]
    },
    {
      "cell_type": "code",
      "metadata": {
        "id": "vDDRPpI-S1LL",
        "colab_type": "code",
        "colab": {
          "base_uri": "https://localhost:8080/",
          "height": 67
        },
        "outputId": "34e74ed9-7b27-4f46-e395-45c885aebb27"
      },
      "source": [
        "!kaggle datasets download -d meowmeowmeowmeowmeow/gtsrb-german-traffic-sign"
      ],
      "execution_count": 4,
      "outputs": [
        {
          "output_type": "stream",
          "text": [
            "Downloading gtsrb-german-traffic-sign.zip to /content\n",
            " 99% 606M/612M [00:10<00:00, 57.2MB/s]\n",
            "100% 612M/612M [00:10<00:00, 59.6MB/s]\n"
          ],
          "name": "stdout"
        }
      ]
    },
    {
      "cell_type": "code",
      "metadata": {
        "id": "xVFtd3mGTKF7",
        "colab_type": "code",
        "colab": {}
      },
      "source": [
        "local_zip = '/content/gtsrb-german-traffic-sign.zip'\n",
        "zip_ref = zipfile.ZipFile(local_zip, 'r')\n",
        "zip_ref.extractall('/content/gtsrb')\n",
        "zip_ref.close()"
      ],
      "execution_count": 5,
      "outputs": []
    },
    {
      "cell_type": "code",
      "metadata": {
        "id": "oXxtbRlKcU7D",
        "colab_type": "code",
        "colab": {}
      },
      "source": [
        "# Generiere Bündel (batches) von Bilddaten-Tensoren mit echtzeit Datenaugmentierung.\n",
        "# Die Daten werden in Bündel durchgelaufen (loop over in batches).\n",
        "# 20 Prozent der Daten werden f ür die Validierung verwendet.\n",
        "\n",
        "\n",
        "import cv2\n",
        "trainfiles=open('/content/gtsrb/Train.csv').read().strip().split('\\n')[1:] #Pro Zeile aufsplitten\n",
        "#print(trainfile)\n",
        "data=[]\n",
        "labels =[]\n",
        "IMG_PATH=[]\n",
        "for i in range(len(trainfiles)):\n",
        "    label,imagepath = trainfiles[i].split(',')[-2:] #Label und Imagepath aufsplitten\n",
        "    imagepath=os.path.join(\"/content/gtsrb/\",imagepath) #Path der CSV Datei dem Hauptpath anhängen\n",
        "    IMG_PATH.append(imagepath) #PATH array jeweils alle paths hinzufügen\n",
        "    image = cv2.imread(imagepath) #foto lesen\n",
        "    image = cv2.resize(image,(32,32)) #trivial\n",
        "    b,g,r = cv2.split(image)           \n",
        "    image = cv2.merge([r,g,b]) #OpenCV liest Bilder im BGR Channel (warum auch immer), deshalb musste der Channel hier in RGB umgeändert werden\n",
        "    data.append(image) #data array alle bilder hinzufügen\n",
        "    labels.append(label) #die zugehörigen labels\n",
        "\n",
        "    #IMG_PATH[image1.path, image2.path, image2.path, ..., imageN.path]\n",
        "    #data[image1, image2, image3, ..., imageN]\n",
        "    #labels[20, 10, 30, ..., label von imageN]\n"
      ],
      "execution_count": 6,
      "outputs": []
    },
    {
      "cell_type": "code",
      "metadata": {
        "id": "LN0bx2abkLek",
        "colab_type": "code",
        "colab": {
          "base_uri": "https://localhost:8080/",
          "height": 233
        },
        "outputId": "47388925-7a7b-4680-fd07-45dc24afa661"
      },
      "source": [
        "print(IMG_PATH[2000])\n",
        "plt.subplot(1,2,1)\n",
        "plt.title(\"Resized auf 32x32\")\n",
        "plt.imshow(data[2000])\n",
        "plt.subplot(1,2,2)\n",
        "plt.title(\"Normales Bild\")\n",
        "plt.imshow(plt.imread(IMG_PATH[2000]))\n",
        "plt.show()"
      ],
      "execution_count": 7,
      "outputs": [
        {
          "output_type": "stream",
          "text": [
            "/content/gtsrb/Train/1/00001_00047_00020.png\n"
          ],
          "name": "stdout"
        },
        {
          "output_type": "display_data",
          "data": {
            "image/png": "[encoded data removed]",
            "text/plain": [
              "<Figure size 432x288 with 2 Axes>"
            ]
          },
          "metadata": {
            "tags": [],
            "needs_background": "light"
          }
        }
      ]
    },
    {
      "cell_type": "code",
      "metadata": {
        "id": "Sz2ryTc9caFP",
        "colab_type": "code",
        "colab": {
          "base_uri": "https://localhost:8080/",
          "height": 50
        },
        "outputId": "8305a42d-8eb6-420a-f22b-c247e992e77e"
      },
      "source": [
        "train_x, train_y = data,labels\n",
        "train_x, valid_x, train_y, valid_y = train_test_split(train_x, train_y,\n",
        "                                                    stratify=train_y, \n",
        "                                                    test_size=0.2)\n",
        "train_x = np.array(train_x)\n",
        "train_y = np.array(train_y)\n",
        "valid_x = np.array(valid_x)\n",
        "valid_y = np.array(valid_y)\n",
        "print(train_y.shape[0])\n",
        "print(valid_y.shape[0])"
      ],
      "execution_count": 8,
      "outputs": [
        {
          "output_type": "stream",
          "text": [
            "31367\n",
            "7842\n"
          ],
          "name": "stdout"
        }
      ]
    },
    {
      "cell_type": "code",
      "metadata": {
        "id": "k2i5SlXrzjcW",
        "colab_type": "code",
        "colab": {}
      },
      "source": [
        "\n",
        "model = Sequential()\n",
        "inputShape = (32, 32,3)\n",
        "model.add(Conv2D(32, (5, 5), padding=\"same\",\n",
        "input_shape=inputShape))\n",
        "model.add(Activation(\"relu\"))\n",
        "model.add(BatchNormalization())\n",
        "model.add(MaxPooling2D(pool_size=(2, 2)))\n",
        "model.add(Conv2D(64, (3, 3), padding=\"same\"))\n",
        "model.add(Activation(\"relu\"))\n",
        "model.add(Flatten())\n",
        "model.add(Dense(256))\n",
        "model.add(Activation(\"relu\"))\n",
        "model.add(BatchNormalization())\n",
        "model.add(Dropout(0.5))\n",
        "model.add(Dense(43))\n",
        "model.add(Activation(\"softmax\"))"
      ],
      "execution_count": 9,
      "outputs": []
    },
    {
      "cell_type": "code",
      "metadata": {
        "id": "xGvCtc0gxRem",
        "colab_type": "code",
        "colab": {
          "base_uri": "https://localhost:8080/",
          "height": 588
        },
        "outputId": "88f2ebc1-46ba-42d6-9efc-2292000edf35"
      },
      "source": [
        "model.summary()"
      ],
      "execution_count": 10,
      "outputs": [
        {
          "output_type": "stream",
          "text": [
            "Model: \"sequential_1\"\n",
            "_________________________________________________________________\n",
            "Layer (type)                 Output Shape              Param #   \n",
            "=================================================================\n",
            "conv2d_1 (Conv2D)            (None, 32, 32, 32)        2432      \n",
            "_________________________________________________________________\n",
            "activation_1 (Activation)    (None, 32, 32, 32)        0         \n",
            "_________________________________________________________________\n",
            "batch_normalization_1 (Batch (None, 32, 32, 32)        128       \n",
            "_________________________________________________________________\n",
            "max_pooling2d_1 (MaxPooling2 (None, 16, 16, 32)        0         \n",
            "_________________________________________________________________\n",
            "conv2d_2 (Conv2D)            (None, 16, 16, 64)        18496     \n",
            "_________________________________________________________________\n",
            "activation_2 (Activation)    (None, 16, 16, 64)        0         \n",
            "_________________________________________________________________\n",
            "flatten_1 (Flatten)          (None, 16384)             0         \n",
            "_________________________________________________________________\n",
            "dense_1 (Dense)              (None, 256)               4194560   \n",
            "_________________________________________________________________\n",
            "activation_3 (Activation)    (None, 256)               0         \n",
            "_________________________________________________________________\n",
            "batch_normalization_2 (Batch (None, 256)               1024      \n",
            "_________________________________________________________________\n",
            "dropout_1 (Dropout)          (None, 256)               0         \n",
            "_________________________________________________________________\n",
            "dense_2 (Dense)              (None, 43)                11051     \n",
            "_________________________________________________________________\n",
            "activation_4 (Activation)    (None, 43)                0         \n",
            "=================================================================\n",
            "Total params: 4,227,691\n",
            "Trainable params: 4,227,115\n",
            "Non-trainable params: 576\n",
            "_________________________________________________________________\n"
          ],
          "name": "stdout"
        }
      ]
    },
    {
      "cell_type": "code",
      "metadata": {
        "id": "O6tAu25NtnDA",
        "colab_type": "code",
        "colab": {}
      },
      "source": [
        "trainAugmentation = ImageDataGenerator(\n",
        "        rescale=1./255,\n",
        "        rotation_range=10,\n",
        "        zoom_range=0.15,\n",
        "        width_shift_range=0.1,\n",
        "        height_shift_range=0.1,\n",
        "        horizontal_flip=False,\n",
        "        vertical_flip=False,\n",
        "        fill_mode=\"nearest\"\n",
        ")"
      ],
      "execution_count": 11,
      "outputs": []
    },
    {
      "cell_type": "code",
      "metadata": {
        "id": "4-HTq99D0ElZ",
        "colab_type": "code",
        "colab": {}
      },
      "source": [
        "timestamp = datetime.now().strftime(\"%d-%b-%Y (%H:%M)\")\n",
        "filepath = \"/content/drive/My Drive/own_model_v\" + timestamp + \".h5\"\n",
        "#model = load_model(filepath)"
      ],
      "execution_count": 12,
      "outputs": []
    },
    {
      "cell_type": "code",
      "metadata": {
        "id": "QENOtfzLz3UT",
        "colab_type": "code",
        "colab": {
          "base_uri": "https://localhost:8080/",
          "height": 34
        },
        "outputId": "e40516f2-4b06-4b00-e8b9-d163c46583d3"
      },
      "source": [
        "#Optimizer/Compiler Block:\n",
        "const_learning_rate = 0.0015\n",
        "const_epochNum = 20\n",
        "print(\"[INFO] Kompilierung...\")\n",
        "#decay=const_learning_rate / (const_epochNum * 0.5)\n",
        "model.compile(loss=\"sparse_categorical_crossentropy\", optimizer=Adam(lr=const_learning_rate, decay=(1./0.75 -1)/32),\n",
        "metrics=[\"accuracy\"])"
      ],
      "execution_count": 13,
      "outputs": [
        {
          "output_type": "stream",
          "text": [
            "[INFO] Kompilierung...\n"
          ],
          "name": "stdout"
        }
      ]
    },
    {
      "cell_type": "code",
      "metadata": {
        "id": "yuygq0JrrdVV",
        "colab_type": "code",
        "colab": {}
      },
      "source": [
        "#Callback Funktion um zu sehen, um wie viel die LR mit LR-Decay pro Epoche abnimmt, funktioniert allerdings nicht wie erwartet, sondern gibt immer die Konstante LR an...\n",
        "class printlearningrate(tf.keras.callbacks.Callback):\n",
        "    def on_epoch_end(self, epoch, logs={}):\n",
        "        optimizer = self.model.optimizer\n",
        "        lr = K.eval(optimizer.lr)\n",
        "        Epoch_count = epoch + 1\n",
        "        print('\\n', \"Epoch:\", Epoch_count, ', LR: {:.10f}'.format(lr))\n",
        "printlr = printlearningrate()"
      ],
      "execution_count": 14,
      "outputs": []
    },
    {
      "cell_type": "code",
      "metadata": {
        "id": "we4SThNc1oz1",
        "colab_type": "code",
        "colab": {
          "base_uri": "https://localhost:8080/",
          "height": 1000
        },
        "outputId": "ca604fed-b245-4123-9d4c-504ed2e03fca"
      },
      "source": [
        "#Trainingsblock\n",
        "const_batch_size = 32\n",
        "print(\"[INFO] Networktraining...\")\n",
        "print(model.optimizer.lr)\n",
        "history = model.fit_generator(\n",
        "\ttrainAugmentation.flow(train_x, train_y, batch_size=const_batch_size),\n",
        "\tvalidation_data=(trainAugmentation.flow(valid_x, valid_y, batch_size=const_batch_size)),\n",
        "\tsteps_per_epoch=train_x.shape[0] // const_batch_size,\n",
        "\tepochs=const_epochNum,\n",
        "\tcallbacks = [printlr],\n",
        "\tverbose=1)\n",
        "#model.save(filepath) #--- Model wird in dieser Version nicht gesaved, damit es bei Ihnen auch funktioniert"
      ],
      "execution_count": 15,
      "outputs": [
        {
          "output_type": "stream",
          "text": [
            "[INFO] Networktraining...\n",
            "<tf.Variable 'Adam/learning_rate:0' shape=() dtype=float32, numpy=0.0015>\n",
            "Epoch 1/20\n",
            "980/980 [==============================] - 42s 42ms/step - loss: 1.5533 - accuracy: 0.5658 - val_loss: 0.5570 - val_accuracy: 0.7961\n",
            "\n",
            " Epoch: 1 , LR: 0.0015000000\n",
            "Epoch 2/20\n",
            "980/980 [==============================] - 35s 36ms/step - loss: 0.7088 - accuracy: 0.7966 - val_loss: 0.6280 - val_accuracy: 0.8865\n",
            "\n",
            " Epoch: 2 , LR: 0.0015000000\n",
            "Epoch 3/20\n",
            "980/980 [==============================] - 36s 36ms/step - loss: 0.5225 - accuracy: 0.8538 - val_loss: 0.1321 - val_accuracy: 0.9114\n",
            "\n",
            " Epoch: 3 , LR: 0.0015000000\n",
            "Epoch 4/20\n",
            "980/980 [==============================] - 36s 36ms/step - loss: 0.4340 - accuracy: 0.8816 - val_loss: 0.1860 - val_accuracy: 0.9297\n",
            "\n",
            " Epoch: 4 , LR: 0.0015000000\n",
            "Epoch 5/20\n",
            "980/980 [==============================] - 36s 37ms/step - loss: 0.3745 - accuracy: 0.8979 - val_loss: 0.0474 - val_accuracy: 0.9434\n",
            "\n",
            " Epoch: 5 , LR: 0.0015000000\n",
            "Epoch 6/20\n",
            "980/980 [==============================] - 36s 37ms/step - loss: 0.3436 - accuracy: 0.9078 - val_loss: 0.0634 - val_accuracy: 0.9471\n",
            "\n",
            " Epoch: 6 , LR: 0.0015000000\n",
            "Epoch 7/20\n",
            "980/980 [==============================] - 35s 36ms/step - loss: 0.3133 - accuracy: 0.9164 - val_loss: 0.0481 - val_accuracy: 0.9480\n",
            "\n",
            " Epoch: 7 , LR: 0.0015000000\n",
            "Epoch 8/20\n",
            "980/980 [==============================] - 36s 36ms/step - loss: 0.2935 - accuracy: 0.9210 - val_loss: 0.0250 - val_accuracy: 0.9572\n",
            "\n",
            " Epoch: 8 , LR: 0.0015000000\n",
            "Epoch 9/20\n",
            "980/980 [==============================] - 35s 36ms/step - loss: 0.2759 - accuracy: 0.9262 - val_loss: 0.0050 - val_accuracy: 0.9587\n",
            "\n",
            " Epoch: 9 , LR: 0.0015000000\n",
            "Epoch 10/20\n",
            "980/980 [==============================] - 35s 36ms/step - loss: 0.2598 - accuracy: 0.9335 - val_loss: 0.4120 - val_accuracy: 0.9617\n",
            "\n",
            " Epoch: 10 , LR: 0.0015000000\n",
            "Epoch 11/20\n",
            "980/980 [==============================] - 35s 36ms/step - loss: 0.2528 - accuracy: 0.9341 - val_loss: 0.7186 - val_accuracy: 0.9624\n",
            "\n",
            " Epoch: 11 , LR: 0.0015000000\n",
            "Epoch 12/20\n",
            "980/980 [==============================] - 35s 36ms/step - loss: 0.2378 - accuracy: 0.9389 - val_loss: 0.0808 - val_accuracy: 0.9661\n",
            "\n",
            " Epoch: 12 , LR: 0.0015000000\n",
            "Epoch 13/20\n",
            "980/980 [==============================] - 35s 36ms/step - loss: 0.2349 - accuracy: 0.9381 - val_loss: 0.1017 - val_accuracy: 0.9680\n",
            "\n",
            " Epoch: 13 , LR: 0.0015000000\n",
            "Epoch 14/20\n",
            "980/980 [==============================] - 35s 36ms/step - loss: 0.2218 - accuracy: 0.9425 - val_loss: 0.9901 - val_accuracy: 0.9694\n",
            "\n",
            " Epoch: 14 , LR: 0.0015000000\n",
            "Epoch 15/20\n",
            "980/980 [==============================] - 35s 36ms/step - loss: 0.2211 - accuracy: 0.9431 - val_loss: 0.0207 - val_accuracy: 0.9707\n",
            "\n",
            " Epoch: 15 , LR: 0.0015000000\n",
            "Epoch 16/20\n",
            "980/980 [==============================] - 35s 36ms/step - loss: 0.2178 - accuracy: 0.9429 - val_loss: 0.0264 - val_accuracy: 0.9731\n",
            "\n",
            " Epoch: 16 , LR: 0.0015000000\n",
            "Epoch 17/20\n",
            "980/980 [==============================] - 35s 36ms/step - loss: 0.2091 - accuracy: 0.9449 - val_loss: 0.1352 - val_accuracy: 0.9727\n",
            "\n",
            " Epoch: 17 , LR: 0.0015000000\n",
            "Epoch 18/20\n",
            "980/980 [==============================] - 35s 35ms/step - loss: 0.1997 - accuracy: 0.9484 - val_loss: 0.0012 - val_accuracy: 0.9697\n",
            "\n",
            " Epoch: 18 , LR: 0.0015000000\n",
            "Epoch 19/20\n",
            "980/980 [==============================] - 35s 35ms/step - loss: 0.1982 - accuracy: 0.9502 - val_loss: 0.0012 - val_accuracy: 0.9728\n",
            "\n",
            " Epoch: 19 , LR: 0.0015000000\n",
            "Epoch 20/20\n",
            "980/980 [==============================] - 35s 36ms/step - loss: 0.1949 - accuracy: 0.9486 - val_loss: 7.8941e-04 - val_accuracy: 0.9733\n",
            "\n",
            " Epoch: 20 , LR: 0.0015000000\n"
          ],
          "name": "stdout"
        }
      ]
    },
    {
      "cell_type": "code",
      "metadata": {
        "id": "rkJDnxZJq4hK",
        "colab_type": "code",
        "colab": {
          "base_uri": "https://localhost:8080/",
          "height": 573
        },
        "outputId": "01dc8f57-d746-4052-ee86-80701784c9c9"
      },
      "source": [
        "plt.plot(history.history['accuracy'])\n",
        "plt.plot(history.history['val_accuracy'])\n",
        "plt.title('Model Accuracy')\n",
        "plt.ylabel('Accuracy')\n",
        "plt.xlabel('Epoch')\n",
        "plt.legend(['Train', 'Validation'], loc='upper left')\n",
        "plt.show()\n",
        "\n",
        "plt.plot(history.history['loss'])\n",
        "plt.plot(history.history['val_loss'])\n",
        "plt.title('Model Loss')\n",
        "plt.ylabel('Loss')\n",
        "plt.xlabel('Epoch')\n",
        "plt.legend(['Train', 'Validation'], loc='upper left')\n",
        "plt.show()"
      ],
      "execution_count": 16,
      "outputs": [
        {
          "output_type": "display_data",
          "data": {
            "image/png": "[encoded data removed]",
            "text/plain": [
              "<Figure size 432x288 with 1 Axes>"
            ]
          },
          "metadata": {
            "tags": [],
            "needs_background": "light"
          }
        },
        {
          "output_type": "display_data",
          "data": {
            "image/png": "[encoded data removed]",
            "text/plain": [
              "<Figure size 432x288 with 1 Axes>"
            ]
          },
          "metadata": {
            "tags": [],
            "needs_background": "light"
          }
        }
      ]
    },
    {
      "cell_type": "code",
      "metadata": {
        "id": "XT6BDi7-LSwu",
        "colab_type": "code",
        "colab": {}
      },
      "source": [
        "testfiles=open('/content/gtsrb/Test.csv').read().strip().split('\\n')[1:] #Pro Zeile aufsplitten\n",
        "data=[]\n",
        "labels =[]\n",
        "IMG_PATH=[]\n",
        "for i in range(len(testfiles)):\n",
        "    label,imagepath = testfiles[i].split(',')[-2:] #Label und Imagepath aufsplitten\n",
        "    imagepath=os.path.join(\"/content/gtsrb/\",imagepath) #Path der CSV Datei dem Hauptpath anhängen\n",
        "    IMG_PATH.append(imagepath) #PATH array jeweils alle paths hinzufügen\n",
        "    image = cv2.imread(imagepath) #foto lesen\n",
        "    image = cv2.resize(image,(32,32)) #trivial\n",
        "    b,g,r = cv2.split(image)           \n",
        "    image = cv2.merge([r,g,b]) #OpenCV liest Bilder im BGR Channel (warum auch immer), deshalb musste der Channel hier in RGB umgeändert werden\n",
        "    data.append(image) #data array alle bilder hinzufügen\n",
        "    labels.append(label) #die zugehörigen labels\n",
        "\n",
        "test_x, test_y = data,labels\n",
        "test_x = np.array(test_x)\n",
        "test_y = np.array(test_y)"
      ],
      "execution_count": 17,
      "outputs": []
    },
    {
      "cell_type": "code",
      "metadata": {
        "id": "8d7y32RXLX3j",
        "colab_type": "code",
        "colab": {}
      },
      "source": [
        "#Test_Data wird normalisiert für korrekte Evaluierung\n",
        "test_augmented = np.zeros((test_x.shape[0],32,32,3))\n",
        "for i in range(test_x.shape[0]):\n",
        "  test_augmented[i] = test_x[i]/255.0\n",
        "test_x = test_augmented"
      ],
      "execution_count": 18,
      "outputs": []
    },
    {
      "cell_type": "code",
      "metadata": {
        "id": "j5Q4enxDNbFy",
        "colab_type": "code",
        "colab": {}
      },
      "source": [
        ""
      ],
      "execution_count": 18,
      "outputs": []
    },
    {
      "cell_type": "code",
      "metadata": {
        "id": "gHN82d0ZRZBD",
        "colab_type": "code",
        "colab": {
          "base_uri": "https://localhost:8080/",
          "height": 119
        },
        "outputId": "31f8a29c-c3d0-433e-93a5-b0d70af015f5"
      },
      "source": [
        "#Um mit eigenen Bildern zu testen\n",
        "\n",
        "\"\"\"\n",
        "image = cv2.imread('/content/drive/My Drive/EigeneTests/sample1.PNG')\n",
        "image = cv2.resize(image,(32,32)) #trivial\n",
        "b,g,r = cv2.split(image)           \n",
        "image = cv2.merge([r,g,b]) #OpenCV liest Bilder im BGR Channel (warum auch immer), deshalb musste der Channel hier in RGB umgeändert werden\n",
        "image = np.array(image)\n",
        "plt.imshow(image)\n",
        "image = np.expand_dims(image, axis=0)\n",
        "plt.show()\n",
        "pred = model.predict(image/255)\n",
        "print(\"Predicted Label: \" + str(np.argmax(pred, axis=1)) + \". Confidence: \" + str(pred[0][np.argmax(pred,axis=1)])) #argmax, da wir die Zeile mit der höchsten Wahrscheinlichkeit nehmen (softmax)\n",
        "if (np.argmax(pred, axis=1) == 1):\n",
        "  print(\"It is a 30km/h speed limit sign!\")\n",
        "else:\n",
        "  print(\"It is another sign\")\n",
        "\n",
        "  \"\"\""
      ],
      "execution_count": 19,
      "outputs": [
        {
          "output_type": "execute_result",
          "data": {
            "application/vnd.google.colaboratory.intrinsic": {
              "type": "string"
            },
            "text/plain": [
              "'\\nimage = cv2.imread(\\'/content/drive/My Drive/EigeneTests/sample1.PNG\\')\\nimage = cv2.resize(image,(32,32)) #trivial\\nb,g,r = cv2.split(image)           \\nimage = cv2.merge([r,g,b]) #OpenCV liest Bilder im BGR Channel (warum auch immer), deshalb musste der Channel hier in RGB umgeändert werden\\nimage = np.array(image)\\nplt.imshow(image)\\nimage = np.expand_dims(image, axis=0)\\nplt.show()\\npred = model.predict(image/255)\\nprint(\"Predicted Label: \" + str(np.argmax(pred, axis=1)) + \". Confidence: \" + str(pred[0][np.argmax(pred,axis=1)])) #argmax, da wir die Zeile mit der höchsten Wahrscheinlichkeit nehmen (softmax)\\nif (np.argmax(pred, axis=1) == 1):\\n  print(\"It is a 30km/h speed limit sign!\")\\nelse:\\n  print(\"It is another sign\")\\n\\n  '"
            ]
          },
          "metadata": {
            "tags": []
          },
          "execution_count": 19
        }
      ]
    },
    {
      "cell_type": "code",
      "metadata": {
        "id": "CsV-TcJ727zT",
        "colab_type": "code",
        "colab": {
          "base_uri": "https://localhost:8080/",
          "height": 84
        },
        "outputId": "c8cca4a2-a6e0-49da-ed33-c16d122b820b"
      },
      "source": [
        "#Evaluierung\n",
        "evaluation = model.evaluate(\n",
        "    x=test_x, y=test_y, batch_size=const_batch_size, verbose=1, sample_weight=None, steps=None,\n",
        "  callbacks=None, max_queue_size=10, workers=1, use_multiprocessing=False\n",
        ")\n",
        "sampleExcelRow = 55\n",
        "#pred = model.predict(image/255)\n",
        "pred = model.predict(test_x[sampleExcelRow - 2:sampleExcelRow - 1]) #9:10 = 11 in excel\n",
        "print(model.metrics_names)\n",
        "print(evaluation)\n",
        "arg = np.argmax(pred, axis = 1)\n",
        "print(arg) #printet das label der 55 excel reihe in Test.csv"
      ],
      "execution_count": 22,
      "outputs": [
        {
          "output_type": "stream",
          "text": [
            "12630/12630 [==============================] - 2s 172us/step\n",
            "['loss', 'accuracy']\n",
            "[0.2577025786856291, 0.9238321185112]\n",
            "[9]\n"
          ],
          "name": "stdout"
        }
      ]
    },
    {
      "cell_type": "markdown",
      "metadata": {
        "id": "XqOea0Jj1oqi",
        "colab_type": "text"
      },
      "source": [
        ""
      ]
    }
  ]
}